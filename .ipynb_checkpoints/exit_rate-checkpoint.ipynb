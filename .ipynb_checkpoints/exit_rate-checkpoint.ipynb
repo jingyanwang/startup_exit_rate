{
 "cells": [
  {
   "cell_type": "code",
   "execution_count": 22,
   "id": "476fec9f",
   "metadata": {},
   "outputs": [],
   "source": [
    "import os\n",
    "import re\n",
    "import datetime\n",
    "import pandas as pd\n",
    "import numpy as np\n",
    "from pandasql import sqldf\n",
    "pysqldf = lambda q: sqldf(q, globals())"
   ]
  },
  {
   "cell_type": "code",
   "execution_count": 2,
   "id": "f186023d",
   "metadata": {},
   "outputs": [],
   "source": [
    "data = pd.read_excel(\n",
    "    'data.xlsx'\n",
    "    )"
   ]
  },
  {
   "cell_type": "code",
   "execution_count": 13,
   "id": "94cce9a9",
   "metadata": {},
   "outputs": [],
   "source": [
    "exit_rate = data.groupby(['funding_stage'])['exit_rate'].agg('median')"
   ]
  },
  {
   "cell_type": "code",
   "execution_count": 28,
   "id": "e84fbda9",
   "metadata": {},
   "outputs": [
    {
     "data": {
      "text/plain": [
       "funding_stage\n",
       "a       0.1200\n",
       "b       0.1695\n",
       "c       0.2200\n",
       "d       0.2545\n",
       "e       0.2570\n",
       "f       0.2550\n",
       "g       0.2760\n",
       "seed    0.0500\n",
       "Name: exit_rate, dtype: float64"
      ]
     },
     "execution_count": 28,
     "metadata": {},
     "output_type": "execute_result"
    }
   ],
   "source": [
    "exit_rate"
   ]
  },
  {
   "cell_type": "code",
   "execution_count": 26,
   "id": "44c189a3",
   "metadata": {},
   "outputs": [
    {
     "name": "stdout",
     "output_type": "stream",
     "text": [
      "0.22\n"
     ]
    }
   ],
   "source": [
    "print(exit_rate['c'])"
   ]
  },
  {
   "cell_type": "code",
   "execution_count": 27,
   "id": "2782a4c0",
   "metadata": {},
   "outputs": [
    {
     "name": "stdout",
     "output_type": "stream",
     "text": [
      "0.9166\n"
     ]
    }
   ],
   "source": [
    "oveall_rate = 1.0-(\n",
    "np.power((1.0-exit_rate['c']), 10)\n",
    ")\n",
    "\n",
    "print(f'{oveall_rate:0.4f}')"
   ]
  },
  {
   "cell_type": "markdown",
   "id": "0c0ce85f",
   "metadata": {},
   "source": [
    "# end"
   ]
  }
 ],
 "metadata": {
  "kernelspec": {
   "display_name": "Python 3 (ipykernel)",
   "language": "python",
   "name": "python3"
  },
  "language_info": {
   "codemirror_mode": {
    "name": "ipython",
    "version": 3
   },
   "file_extension": ".py",
   "mimetype": "text/x-python",
   "name": "python",
   "nbconvert_exporter": "python",
   "pygments_lexer": "ipython3",
   "version": "3.10.6"
  }
 },
 "nbformat": 4,
 "nbformat_minor": 5
}
