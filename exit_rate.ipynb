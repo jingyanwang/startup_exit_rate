{
 "cells": [
  {
   "cell_type": "code",
   "execution_count": 22,
   "id": "476fec9f",
   "metadata": {},
   "outputs": [],
   "source": [
    "import os\n",
    "import re\n",
    "import datetime\n",
    "import pandas as pd\n",
    "import numpy as np\n",
    "from pandasql import sqldf\n",
    "pysqldf = lambda q: sqldf(q, globals())"
   ]
  },
  {
   "cell_type": "code",
   "execution_count": 2,
   "id": "f186023d",
   "metadata": {},
   "outputs": [],
   "source": [
    "data = pd.read_excel(\n",
    "    'data.xlsx'\n",
    "    )"
   ]
  },
  {
   "cell_type": "code",
   "execution_count": 13,
   "id": "94cce9a9",
   "metadata": {},
   "outputs": [],
   "source": [
    "exit_rate = data.groupby(['funding_stage'])['exit_rate'].agg('median')"
   ]
  },
  {
   "cell_type": "code",
   "execution_count": 17,
   "id": "dfbd2bdc",
   "metadata": {},
   "outputs": [],
   "source": [
    "series_c_exit_rate = exit_rate['c']"
   ]
  },
  {
   "cell_type": "code",
   "execution_count": 19,
   "id": "e787279e",
   "metadata": {},
   "outputs": [
    {
     "name": "stdout",
     "output_type": "stream",
     "text": [
      "0.22\n"
     ]
    }
   ],
   "source": [
    "print(series_c_exit_rate)"
   ]
  },
  {
   "cell_type": "code",
   "execution_count": 25,
   "id": "233ef5e4",
   "metadata": {},
   "outputs": [
    {
     "name": "stdout",
     "output_type": "stream",
     "text": [
      "0.9166\n"
     ]
    }
   ],
   "source": [
    "oveall_rate = 1.0-(\n",
    "np.power((1.0-series_c_exit_rate), 10)\n",
    ")\n",
    "\n",
    "print(f'{oveall_rate:0.4f}')"
   ]
  },
  {
   "cell_type": "markdown",
   "id": "0c0ce85f",
   "metadata": {},
   "source": [
    "# end"
   ]
  }
 ],
 "metadata": {
  "kernelspec": {
   "display_name": "Python 3 (ipykernel)",
   "language": "python",
   "name": "python3"
  },
  "language_info": {
   "codemirror_mode": {
    "name": "ipython",
    "version": 3
   },
   "file_extension": ".py",
   "mimetype": "text/x-python",
   "name": "python",
   "nbconvert_exporter": "python",
   "pygments_lexer": "ipython3",
   "version": "3.10.6"
  }
 },
 "nbformat": 4,
 "nbformat_minor": 5
}
